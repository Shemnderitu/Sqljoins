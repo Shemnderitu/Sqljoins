{
 "cells": [
  {
   "cell_type": "code",
   "execution_count": 8,
   "id": "e7eeeab0",
   "metadata": {},
   "outputs": [],
   "source": [
    "import sqlite3"
   ]
  },
  {
   "cell_type": "code",
   "execution_count": 9,
   "id": "8d5c10ff",
   "metadata": {},
   "outputs": [],
   "source": [
    "conn = sqlite3.connect('demo.db')\n",
    "c = conn.cursor()"
   ]
  },
  {
   "cell_type": "code",
   "execution_count": 10,
   "id": "e66b32a3",
   "metadata": {},
   "outputs": [
    {
     "data": {
      "text/plain": [
       "<sqlite3.Cursor at 0x1d9c3514570>"
      ]
     },
     "execution_count": 10,
     "metadata": {},
     "output_type": "execute_result"
    }
   ],
   "source": [
    "c.execute(\"PRAGMA foreign_keys = ON\")"
   ]
  },
  {
   "cell_type": "code",
   "execution_count": 11,
   "id": "6415d5d5",
   "metadata": {},
   "outputs": [
    {
     "data": {
      "text/plain": [
       "<sqlite3.Cursor at 0x1d9c3514570>"
      ]
     },
     "execution_count": 11,
     "metadata": {},
     "output_type": "execute_result"
    }
   ],
   "source": [
    "c.execute(\"DROP TABLE IF EXISTS orders \")\n",
    "c.execute(\"DROP TABLE IF EXISTS users\")"
   ]
  },
  {
   "cell_type": "code",
   "execution_count": 12,
   "id": "d246ab91",
   "metadata": {},
   "outputs": [
    {
     "data": {
      "text/plain": [
       "<sqlite3.Cursor at 0x1d9c3514570>"
      ]
     },
     "execution_count": 12,
     "metadata": {},
     "output_type": "execute_result"
    }
   ],
   "source": [
    "c.execute(\"\"\"\n",
    "    CREATE TABLE users (\n",
    "    id INTEGER PRIMARY KEY,\n",
    "    name TEXT NOT NULL,\n",
    "    age INTEGER)\n",
    "\n",
    "\"\"\")"
   ]
  },
  {
   "cell_type": "code",
   "execution_count": 16,
   "id": "9e982987",
   "metadata": {},
   "outputs": [
    {
     "data": {
      "text/plain": [
       "<sqlite3.Cursor at 0x1d9c3514570>"
      ]
     },
     "execution_count": 16,
     "metadata": {},
     "output_type": "execute_result"
    }
   ],
   "source": [
    "c.execute(\"\"\"\n",
    "    CREATE TABLE orders (\n",
    "    order_id INTEGER PRIMARY KEY,\n",
    "    user_id INTEGER,\n",
    "    product TEXT NOT NULL,\n",
    "    amount REAL,\n",
    "    FOREIGN KEY (user_id) REFERENCES users(id)\n",
    "    )\n",
    "\"\"\")"
   ]
  },
  {
   "cell_type": "code",
   "execution_count": 17,
   "id": "a35f0171",
   "metadata": {},
   "outputs": [],
   "source": [
    "users_data = [\n",
    "    (1, 'Alice', 30),\n",
    "    (2, 'Bob', 25),\n",
    "    (3, 'Charlie', 35)\n",
    "]\n",
    "c.executemany(\"INSERT INTO users (id, name, age) VALUES (?, ?, ?)\", users_data)\n",
    "orders_data = [\n",
    "    (1, 1, 'Laptop', 60000.00),\n",
    "    (2, 1, 'Mouse', 2500.00),\n",
    "    (3, 2, 'Keyboard', 4500.00),\n",
    "    (4, 3, 'Monitor', 30000.00)\n",
    "]\n",
    "c.executemany(\"INSERT INTO orders (order_id, user_id, product, amount) VALUES (?, ?, ?, ?)\", orders_data)\n",
    "conn.commit()"
   ]
  },
  {
   "cell_type": "code",
   "execution_count": 27,
   "id": "e7add572",
   "metadata": {},
   "outputs": [
    {
     "name": "stdout",
     "output_type": "stream",
     "text": [
      "(1, 'Alice', 30)\n",
      "(2, 'Bob', 25)\n",
      "(3, 'Charlie', 35)\n"
     ]
    }
   ],
   "source": [
    "c.execute(\"SELECT * FROM users;\")\n",
    "rows = c.fetchall()\n",
    "for row in rows:\n",
    "    print(row)"
   ]
  },
  {
   "cell_type": "code",
   "execution_count": 28,
   "id": "07a81763",
   "metadata": {},
   "outputs": [
    {
     "name": "stdout",
     "output_type": "stream",
     "text": [
      "(1, 1, 'Laptop', 60000.0)\n",
      "(2, 1, 'Mouse', 2500.0)\n",
      "(3, 2, 'Keyboard', 4500.0)\n",
      "(4, 3, 'Monitor', 30000.0)\n"
     ]
    }
   ],
   "source": [
    "c.execute(\"SELECT * FROM orders;\")\n",
    "rows = c.fetchall()\n",
    "for row in rows:\n",
    "    print(row)"
   ]
  },
  {
   "cell_type": "code",
   "execution_count": 31,
   "id": "6456c212",
   "metadata": {},
   "outputs": [
    {
     "name": "stdout",
     "output_type": "stream",
     "text": [
      "(1, 1, 'Laptop', 60000.0)\n",
      "(4, 3, 'Monitor', 30000.0)\n"
     ]
    }
   ],
   "source": [
    "c.execute(\"\"\"\n",
    "    SELECT *\n",
    "    FROM orders\n",
    "    WHERE amount > 10000;\n",
    "\"\"\")\n",
    "rows = c.fetchall()\n",
    "for row in rows:\n",
    "    print(row)"
   ]
  },
  {
   "cell_type": "code",
   "execution_count": 32,
   "id": "10c75db4",
   "metadata": {},
   "outputs": [],
   "source": [
    "conn.close()"
   ]
  }
 ],
 "metadata": {
  "kernelspec": {
   "display_name": "learn-env",
   "language": "python",
   "name": "python3"
  },
  "language_info": {
   "codemirror_mode": {
    "name": "ipython",
    "version": 3
   },
   "file_extension": ".py",
   "mimetype": "text/x-python",
   "name": "python",
   "nbconvert_exporter": "python",
   "pygments_lexer": "ipython3",
   "version": "3.8.5"
  }
 },
 "nbformat": 4,
 "nbformat_minor": 5
}
