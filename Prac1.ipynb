{
 "cells": [
  {
   "cell_type": "code",
   "execution_count": 26,
   "id": "e7eeeab0",
   "metadata": {},
   "outputs": [],
   "source": [
    "import sqlite3"
   ]
  },
  {
   "cell_type": "code",
   "execution_count": 27,
   "id": "8d5c10ff",
   "metadata": {},
   "outputs": [],
   "source": [
    "conn = sqlite3.connect('demo.db')\n",
    "c = conn.cursor()"
   ]
  },
  {
   "cell_type": "code",
   "execution_count": 28,
   "id": "e66b32a3",
   "metadata": {},
   "outputs": [
    {
     "data": {
      "text/plain": [
       "<sqlite3.Cursor at 0x2727393ece0>"
      ]
     },
     "execution_count": 28,
     "metadata": {},
     "output_type": "execute_result"
    }
   ],
   "source": [
    "c.execute(\"PRAGMA foreign_keys = ON\")"
   ]
  },
  {
   "cell_type": "code",
   "execution_count": 32,
   "id": "6415d5d5",
   "metadata": {},
   "outputs": [
    {
     "ename": "OperationalError",
     "evalue": "database is locked",
     "output_type": "error",
     "traceback": [
      "\u001b[1;31m---------------------------------------------------------------------------\u001b[0m",
      "\u001b[1;31mOperationalError\u001b[0m                          Traceback (most recent call last)",
      "\u001b[1;32m<ipython-input-32-6702b40d7ee3>\u001b[0m in \u001b[0;36m<module>\u001b[1;34m\u001b[0m\n\u001b[1;32m----> 1\u001b[1;33m \u001b[0mc\u001b[0m\u001b[1;33m.\u001b[0m\u001b[0mexecute\u001b[0m\u001b[1;33m(\u001b[0m\u001b[1;34m\"DROP TABLE IF EXISTS orders \"\u001b[0m\u001b[1;33m)\u001b[0m\u001b[1;33m\u001b[0m\u001b[1;33m\u001b[0m\u001b[0m\n\u001b[0m\u001b[0;32m      2\u001b[0m \u001b[0mc\u001b[0m\u001b[1;33m.\u001b[0m\u001b[0mexecute\u001b[0m\u001b[1;33m(\u001b[0m\u001b[1;34m\"DROP TABLE IF EXISTS users\"\u001b[0m\u001b[1;33m)\u001b[0m\u001b[1;33m\u001b[0m\u001b[1;33m\u001b[0m\u001b[0m\n",
      "\u001b[1;31mOperationalError\u001b[0m: database is locked"
     ]
    }
   ],
   "source": [
    "c.execute(\"DROP TABLE IF EXISTS orders \")\n",
    "c.execute(\"DROP TABLE IF EXISTS users\")"
   ]
  },
  {
   "cell_type": "code",
   "execution_count": 33,
   "id": "d246ab91",
   "metadata": {},
   "outputs": [
    {
     "data": {
      "text/plain": [
       "<sqlite3.Cursor at 0x2727393ece0>"
      ]
     },
     "execution_count": 33,
     "metadata": {},
     "output_type": "execute_result"
    }
   ],
   "source": [
    "c.execute(\"\"\"\n",
    "    CREATE TABLE IF NOT EXISTS users  (\n",
    "    id INTEGER PRIMARY KEY,\n",
    "    name TEXT NOT NULL,\n",
    "    age INTEGER)\n",
    "\n",
    "\"\"\")"
   ]
  },
  {
   "cell_type": "code",
   "execution_count": 34,
   "id": "9e982987",
   "metadata": {},
   "outputs": [
    {
     "data": {
      "text/plain": [
       "<sqlite3.Cursor at 0x2727393ece0>"
      ]
     },
     "execution_count": 34,
     "metadata": {},
     "output_type": "execute_result"
    }
   ],
   "source": [
    "c.execute(\"\"\"\n",
    "    CREATE TABLE IF NOT EXISTS orders (\n",
    "    order_id INTEGER PRIMARY KEY,\n",
    "    user_id INTEGER,\n",
    "    product TEXT NOT NULL,\n",
    "    amount REAL,\n",
    "    FOREIGN KEY (user_id) REFERENCES users(id)\n",
    "    )\n",
    "\"\"\")"
   ]
  },
  {
   "cell_type": "code",
   "execution_count": 35,
   "id": "a35f0171",
   "metadata": {},
   "outputs": [
    {
     "ename": "OperationalError",
     "evalue": "database is locked",
     "output_type": "error",
     "traceback": [
      "\u001b[1;31m---------------------------------------------------------------------------\u001b[0m",
      "\u001b[1;31mOperationalError\u001b[0m                          Traceback (most recent call last)",
      "\u001b[1;32m<ipython-input-35-79001e536758>\u001b[0m in \u001b[0;36m<module>\u001b[1;34m\u001b[0m\n\u001b[0;32m      5\u001b[0m     \u001b[1;33m(\u001b[0m\u001b[1;36m4\u001b[0m\u001b[1;33m,\u001b[0m \u001b[1;34m'David'\u001b[0m\u001b[1;33m,\u001b[0m \u001b[1;36m28\u001b[0m\u001b[1;33m)\u001b[0m\u001b[1;33m\u001b[0m\u001b[1;33m\u001b[0m\u001b[0m\n\u001b[0;32m      6\u001b[0m ]\n\u001b[1;32m----> 7\u001b[1;33m \u001b[0mc\u001b[0m\u001b[1;33m.\u001b[0m\u001b[0mexecutemany\u001b[0m\u001b[1;33m(\u001b[0m\u001b[1;34m\"INSERT INTO users (id, name, age) VALUES (?, ?, ?)\"\u001b[0m\u001b[1;33m,\u001b[0m \u001b[0musers_data\u001b[0m\u001b[1;33m)\u001b[0m\u001b[1;33m\u001b[0m\u001b[1;33m\u001b[0m\u001b[0m\n\u001b[0m\u001b[0;32m      8\u001b[0m orders_data = [\n\u001b[0;32m      9\u001b[0m     \u001b[1;33m(\u001b[0m\u001b[1;36m1\u001b[0m\u001b[1;33m,\u001b[0m \u001b[1;36m1\u001b[0m\u001b[1;33m,\u001b[0m \u001b[1;34m'Laptop'\u001b[0m\u001b[1;33m,\u001b[0m \u001b[1;36m60000.00\u001b[0m\u001b[1;33m)\u001b[0m\u001b[1;33m,\u001b[0m\u001b[1;33m\u001b[0m\u001b[1;33m\u001b[0m\u001b[0m\n",
      "\u001b[1;31mOperationalError\u001b[0m: database is locked"
     ]
    }
   ],
   "source": [
    "users_data = [\n",
    "    (1, 'Alice', 30),\n",
    "    (2, 'Bob', 25),\n",
    "    (3, 'Charlie', 35),\n",
    "    (4, 'David', 28)\n",
    "]\n",
    "c.executemany(\"INSERT INTO users (id, name, age) VALUES (?, ?, ?)\", users_data)\n",
    "orders_data = [\n",
    "    (1, 1, 'Laptop', 60000.00),\n",
    "    (2, 1, 'Mouse', 2500.00),\n",
    "    (3, 2, 'Keyboard', 4500.00),\n",
    "    (4, 3, 'Monitor', 30000.00)\n",
    "]\n",
    "c.executemany(\"INSERT INTO orders (order_id, user_id, product, amount) VALUES (?, ?, ?, ?)\", orders_data)\n",
    "#conn.commit()"
   ]
  },
  {
   "cell_type": "code",
   "execution_count": 8,
   "id": "e7add572",
   "metadata": {},
   "outputs": [
    {
     "name": "stdout",
     "output_type": "stream",
     "text": [
      "(1, 'Alice', 30)\n",
      "(2, 'Bob', 25)\n",
      "(3, 'Charlie', 35)\n"
     ]
    }
   ],
   "source": [
    "c.execute(\"SELECT * FROM users;\")\n",
    "rows = c.fetchall()\n",
    "for row in rows:\n",
    "    print(row)"
   ]
  },
  {
   "cell_type": "code",
   "execution_count": 9,
   "id": "07a81763",
   "metadata": {},
   "outputs": [
    {
     "name": "stdout",
     "output_type": "stream",
     "text": [
      "(1, 1, 'Laptop', 60000.0)\n",
      "(2, 1, 'Mouse', 2500.0)\n",
      "(3, 2, 'Keyboard', 4500.0)\n",
      "(4, 3, 'Monitor', 30000.0)\n"
     ]
    }
   ],
   "source": [
    "c.execute(\"SELECT * FROM orders;\")\n",
    "rows = c.fetchall()\n",
    "for row in rows:\n",
    "    print(row)"
   ]
  },
  {
   "cell_type": "code",
   "execution_count": 12,
   "id": "6456c212",
   "metadata": {},
   "outputs": [
    {
     "name": "stdout",
     "output_type": "stream",
     "text": [
      "(1, 1, 'Laptop', 60000.0)\n",
      "(4, 3, 'Monitor', 30000.0)\n"
     ]
    }
   ],
   "source": [
    "c.execute(\"\"\"\n",
    "    SELECT *\n",
    "    FROM orders\n",
    "    WHERE amount > 10000;\n",
    "\"\"\")\n",
    "rows = c.fetchall()\n",
    "for row in rows:\n",
    "    print(row)"
   ]
  },
  {
   "cell_type": "code",
   "execution_count": 13,
   "id": "8cf90dbd",
   "metadata": {},
   "outputs": [
    {
     "name": "stdout",
     "output_type": "stream",
     "text": [
      "(4, 3, 'Monitor', 30000.0)\n",
      "(3, 2, 'Keyboard', 4500.0)\n"
     ]
    }
   ],
   "source": [
    "c.execute(\"\"\"\n",
    "    SELECT *\n",
    "    FROM orders\n",
    "    ORDER BY order_id DESC LIMIT 2;\n",
    "\"\"\")\n",
    "rows = c.fetchall()\n",
    "for row in rows:\n",
    "    print(row)"
   ]
  },
  {
   "cell_type": "code",
   "execution_count": 20,
   "id": "38510170",
   "metadata": {},
   "outputs": [
    {
     "name": "stdout",
     "output_type": "stream",
     "text": [
      "('Alice', 62500.0)\n",
      "('Bob', 4500.0)\n",
      "('Charlie', 30000.0)\n"
     ]
    }
   ],
   "source": [
    "c.execute(\"\"\"\n",
    "    SELECT users.name, SUM(orders.amount)\n",
    "    FROM orders\n",
    "    JOIN users ON orders.user_id = users.id\n",
    "    GROUP BY users.name;\n",
    "\"\"\")\n",
    "rows = c.fetchall()\n",
    "for row in rows:\n",
    "    print(row)"
   ]
  },
  {
   "cell_type": "markdown",
   "id": "c9e9b9c9",
   "metadata": {},
   "source": [
    "JOINS combines rows from twpo or more tables based on a related column usually a typical primary key to foreign key relationship\n",
    "1. inner join - returns records with matching keys in both tables\n",
    "2. left join -  returns all users even those with no orders. If there is no match it will return null for other fields\n",
    "3. cross join"
   ]
  },
  {
   "cell_type": "code",
   "execution_count": 21,
   "id": "a1ed30ee",
   "metadata": {},
   "outputs": [
    {
     "name": "stdout",
     "output_type": "stream",
     "text": [
      "(1, 'Alice', 30, 1, 1, 'Laptop', 60000.0)\n",
      "(1, 'Alice', 30, 2, 1, 'Mouse', 2500.0)\n",
      "(2, 'Bob', 25, 3, 2, 'Keyboard', 4500.0)\n",
      "(3, 'Charlie', 35, 4, 3, 'Monitor', 30000.0)\n"
     ]
    }
   ],
   "source": [
    "#Inner Join\n",
    "c.execute(\"\"\"\n",
    "    SELECT *\n",
    "    FROM users\n",
    "    INNER JOIN orders ON users.id = orders.user_id;\n",
    "\"\"\")\n",
    "rows = c.fetchall()\n",
    "for row in rows:\n",
    "    print(row)"
   ]
  },
  {
   "cell_type": "code",
   "execution_count": 36,
   "id": "2d767d9f",
   "metadata": {},
   "outputs": [
    {
     "name": "stdout",
     "output_type": "stream",
     "text": [
      "(1, 'Alice', 30, 1, 1, 'Laptop', 60000.0)\n",
      "(1, 'Alice', 30, 2, 1, 'Mouse', 2500.0)\n",
      "(2, 'Bob', 25, 3, 2, 'Keyboard', 4500.0)\n",
      "(3, 'Charlie', 35, 4, 3, 'Monitor', 30000.0)\n"
     ]
    }
   ],
   "source": [
    "#Left Join\n",
    "c.execute(\"\"\"\n",
    "    SELECT *\n",
    "    FROM users\n",
    "    LEFT JOIN orders ON users.id = orders.user_id;\n",
    "\"\"\")\n",
    "rows = c.fetchall()\n",
    "for row in rows:\n",
    "    print(row)"
   ]
  },
  {
   "cell_type": "code",
   "execution_count": 37,
   "id": "4be9963d",
   "metadata": {},
   "outputs": [
    {
     "name": "stdout",
     "output_type": "stream",
     "text": [
      "(1, 'Alice', 30, 1, 1, 'Laptop', 60000.0)\n",
      "(1, 'Alice', 30, 2, 1, 'Mouse', 2500.0)\n",
      "(1, 'Alice', 30, 3, 2, 'Keyboard', 4500.0)\n",
      "(1, 'Alice', 30, 4, 3, 'Monitor', 30000.0)\n",
      "(2, 'Bob', 25, 1, 1, 'Laptop', 60000.0)\n",
      "(2, 'Bob', 25, 2, 1, 'Mouse', 2500.0)\n",
      "(2, 'Bob', 25, 3, 2, 'Keyboard', 4500.0)\n",
      "(2, 'Bob', 25, 4, 3, 'Monitor', 30000.0)\n",
      "(3, 'Charlie', 35, 1, 1, 'Laptop', 60000.0)\n",
      "(3, 'Charlie', 35, 2, 1, 'Mouse', 2500.0)\n",
      "(3, 'Charlie', 35, 3, 2, 'Keyboard', 4500.0)\n",
      "(3, 'Charlie', 35, 4, 3, 'Monitor', 30000.0)\n"
     ]
    }
   ],
   "source": [
    "#Cross Join\n",
    "c.execute(\"\"\"\n",
    "    SELECT *\n",
    "    FROM users\n",
    "    CROSS JOIN orders;\n",
    "\"\"\")\n",
    "rows = c.fetchall()\n",
    "for row in rows:\n",
    "    print(row)"
   ]
  },
  {
   "cell_type": "code",
   "execution_count": null,
   "id": "10c75db4",
   "metadata": {},
   "outputs": [],
   "source": [
    "#conn.close()"
   ]
  }
 ],
 "metadata": {
  "kernelspec": {
   "display_name": "learn-env",
   "language": "python",
   "name": "python3"
  },
  "language_info": {
   "codemirror_mode": {
    "name": "ipython",
    "version": 3
   },
   "file_extension": ".py",
   "mimetype": "text/x-python",
   "name": "python",
   "nbconvert_exporter": "python",
   "pygments_lexer": "ipython3",
   "version": "3.8.5"
  }
 },
 "nbformat": 4,
 "nbformat_minor": 5
}
